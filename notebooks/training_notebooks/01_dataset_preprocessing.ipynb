{
 "cells": [
  {
   "cell_type": "markdown",
   "id": "b61cd01a",
   "metadata": {},
   "source": [
    "## Dataset Overview\n",
    "\n",
    "This notebook processes the synthetic energy prompt dataset by computing:\n",
    "\n",
    "- **Token Count** using a transformer tokenizer (BERT).\n",
    "- **Readability Score** using the Flesch Reading Ease formula.\n",
    "\n",
    "**Input**: `data/synthetic/energy_data.csv`  \n",
    "**Output**: `data/processed/processed_data.csv`\n"
   ]
  },
  {
   "cell_type": "code",
   "execution_count": 5,
   "id": "e834f716",
   "metadata": {},
   "outputs": [
    {
     "name": "stdout",
     "output_type": "stream",
     "text": [
      "Columns in CSV: ['prompt_id', 'prompt_text', 'token_count', 'readability_score', 'hardware_type', 'energy_consumption']\n"
     ]
    }
   ],
   "source": [
    "import pandas as pd\n",
    "from transformers import AutoTokenizer\n",
    "import textstat\n",
    "\n",
    "# Load dataset\n",
    "df = pd.read_csv(r\"C:\\Users\\Jasmine\\PycharmProjects\\New_project\\data\\synthetic\\energy_data.csv\")\n",
    "\n",
    "# Confirm column names\n",
    "print(\"Columns in CSV:\", df.columns.tolist())\n",
    "\n",
    "# Load tokenizer\n",
    "tokenizer = AutoTokenizer.from_pretrained(\"bert-base-uncased\")\n",
    "\n",
    "# Feature: Token Count\n",
    "def compute_token_count(prompt):\n",
    "    return len(tokenizer(prompt)[\"input_ids\"])\n",
    "\n",
    "# Feature: Readability Score\n",
    "def compute_readability_score(prompt):\n",
    "    return textstat.flesch_reading_ease(prompt)\n",
    "\n",
    "# Apply features to the correct column name\n",
    "df[\"token_count\"] = df[\"prompt_text\"].apply(compute_token_count)\n",
    "df[\"readability_score\"] = df[\"prompt_text\"].apply(compute_readability_score)\n",
    "\n",
    "# Save processed dataset\n",
    "df.to_csv(r\"C:\\Users\\Jasmine\\PycharmProjects\\New_project\\data\\processed\\processed_data.csv\", index=False)\n"
   ]
  }
 ],
 "metadata": {
  "kernelspec": {
   "display_name": "venv",
   "language": "python",
   "name": "python3"
  },
  "language_info": {
   "codemirror_mode": {
    "name": "ipython",
    "version": 3
   },
   "file_extension": ".py",
   "mimetype": "text/x-python",
   "name": "python",
   "nbconvert_exporter": "python",
   "pygments_lexer": "ipython3",
   "version": "3.12.2"
  }
 },
 "nbformat": 4,
 "nbformat_minor": 5
}
